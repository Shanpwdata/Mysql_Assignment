{
 "cells": [
  {
   "cell_type": "markdown",
   "id": "7d0afb3e-284f-49e8-bbd2-c6e2dc1e7da5",
   "metadata": {},
   "source": [
    "Q1. What is a database? Differentiate between SQL and NoSQL databases."
   ]
  },
  {
   "cell_type": "markdown",
   "id": "db5e65e9-4096-4b73-8287-0f1076fb9911",
   "metadata": {},
   "source": [
    "#Ans.1. \n",
    "In programing to store the data in structure manner is called database or tools to store the data in structure manner is called database. difference between SQL and NoSQL is SQL(Structured Query Language) databases are relational, and NoSQL databases are non-relational."
   ]
  },
  {
   "cell_type": "markdown",
   "id": "e2174313-0ebf-4133-b54c-4a96625df15a",
   "metadata": {},
   "source": [
    "Q2. What is DDL? Explain why CREATE, DROP, ALTER, and TRUNCATE are used with an example."
   ]
  },
  {
   "cell_type": "markdown",
   "id": "3cff5c56-c3df-4ffb-b98b-0e3a3264c4f1",
   "metadata": {},
   "source": [
    "#Ans.2.\n",
    "Data Definition Language(DDL) is a subset of SQL and a part of DBMS(Database Management System). DDL consist of Commands to commands like CREATE, ALTER, TRUNCATE and DROP. These commands are used to create or modify the tables in SQL."
   ]
  },
  {
   "cell_type": "code",
   "execution_count": null,
   "id": "92e6753d-3dea-4e8b-adb5-c9fb1050386c",
   "metadata": {},
   "outputs": [],
   "source": [
    "#Ex. CREATE:\n",
    "CREATE TABLE employees(id INT , name VARCHAR(50), department VARCHAR(50), salary DECIMAL(10, 2))"
   ]
  },
  {
   "cell_type": "code",
   "execution_count": null,
   "id": "ac8e63c6-f707-4419-badc-c83a85688174",
   "metadata": {},
   "outputs": [],
   "source": [
    "#Ex. DROP:\n",
    "DROP TABLE employees;"
   ]
  },
  {
   "cell_type": "code",
   "execution_count": null,
   "id": "dad7c44c-c98e-42ac-a447-64a4cba68445",
   "metadata": {},
   "outputs": [],
   "source": [
    "#Ex. ALTER\n",
    "ALTER TABLE employees\n",
    "ADD COLUMN hire_date DATE;"
   ]
  },
  {
   "cell_type": "code",
   "execution_count": null,
   "id": "32cda810-61d8-466c-9d0d-3c5baf7b460f",
   "metadata": {},
   "outputs": [],
   "source": [
    "#Ex. TRUNCATE\n",
    "TRUNCATE TABLE employees;"
   ]
  },
  {
   "cell_type": "markdown",
   "id": "609a0a4f-af50-4463-aaf4-d595d3a7b5cb",
   "metadata": {},
   "source": [
    "Q3. What is DML? Explain INSERT, UPDATE, and DELETE with an example."
   ]
  },
  {
   "cell_type": "markdown",
   "id": "715d027a-6746-432c-bf7b-76fe10cd384a",
   "metadata": {},
   "source": [
    "#Ans.3.\n",
    "A DML (data manipulation language) refers to a computer programming language that allows you to add (insert), delete (delete), and alter (update) data in a database. "
   ]
  },
  {
   "cell_type": "code",
   "execution_count": null,
   "id": "369abf8a-65fe-462a-87b5-133a3f7c749d",
   "metadata": {},
   "outputs": [],
   "source": [
    "#Ex. INSERT, UPDATE, DELETE\n",
    "INSERT INTO students (id, name, age, gender)\n",
    "VALUES (101, 'John Doe', 25, 'Male');\n",
    "\n",
    "UPDATE students\n",
    "SET age = 26\n",
    "WHERE id = 101;\n",
    "\n",
    "DELETE FROM students\n",
    "WHERE id = 101;"
   ]
  },
  {
   "cell_type": "markdown",
   "id": "d08eec16-fed7-495c-9b5e-efd26f2be023",
   "metadata": {},
   "source": [
    "Q4. What is DQL? Explain SELECT with an example."
   ]
  },
  {
   "cell_type": "markdown",
   "id": "129c0935-0990-4c73-871a-2ec384dea300",
   "metadata": {},
   "source": [
    "#Ans.4.\n",
    "DQL stands for Data Query Language. It is a subset of SQL (Structured Query Language) used to retrieve data from a database. DQL allows you to construct queries that specify which data you want to retrieve from one or more tables.\n",
    "Ex. Select\n",
    "\n",
    "select * from test;         '''###it will retrieve the data from test database in format of Rows and Coloums.'''"
   ]
  },
  {
   "cell_type": "markdown",
   "id": "aa7cd4d0-5c28-4fe0-93d2-12dcc5aa1d5a",
   "metadata": {},
   "source": [
    "Q5. Explain Primary Key and Foreign Key."
   ]
  },
  {
   "cell_type": "markdown",
   "id": "2378e8f5-f200-4598-ad70-bd833a9885f3",
   "metadata": {},
   "source": [
    "#Ans.5. \n",
    "A primary key generally focuses on the uniqueness of the table. It assures the value in the specific column is unique. A foreign key is generally used to build a relationship between the two tables. The table allows only one primary key."
   ]
  },
  {
   "cell_type": "markdown",
   "id": "227ef7ed-fe56-49d2-ba58-4278cd36037e",
   "metadata": {},
   "source": [
    "Q6. Write a python code to connect MySQL to python. Explain the cursor() and execute() method."
   ]
  },
  {
   "cell_type": "code",
   "execution_count": null,
   "id": "eb344b96-79e5-4537-820e-548cad642aea",
   "metadata": {},
   "outputs": [],
   "source": [
    "#Ans.6.\n",
    "import mysql.connector\n",
    "# import mysql.connector\n",
    "#create user 'user'@'%' identified by 'password'\n",
    "mydb = mysql.connector.connect(\n",
    "  host=\"localhost\",\n",
    "  user=\"abc\",\n",
    "  password=\"password\"\n",
    ")\n",
    "print(mydb)\n",
    "mycursor = mydb.cursor()\n",
    "mycursor.execute(\"SHOW DATABASES\")\n",
    "for x in mycursor:\n",
    "    print(x)"
   ]
  },
  {
   "cell_type": "markdown",
   "id": "0a7667e4-5155-4abc-aaf9-8ad83b6f44d4",
   "metadata": {},
   "source": [
    "Explanation of the cursor() and execute() methods:\n",
    "\n",
    "cursor():\n",
    "The cursor() method creates a cursor object, which is used to interact with the MySQL database. The cursor object allows you to execute SQL queries and retrieve data from the database.\n",
    "\n",
    "execute():\n",
    "The execute() method is used to execute a SQL query or a database operation on the MySQL server. It takes the SQL query as its parameter and sends it to the MySQL server for execution. "
   ]
  },
  {
   "cell_type": "markdown",
   "id": "c6844ad3-04b6-42bc-be77-77d354fd1c35",
   "metadata": {},
   "source": [
    "Q7. Give the order of execution of SQL clauses in an SQL query."
   ]
  },
  {
   "cell_type": "markdown",
   "id": "e76b3fa8-ee02-48e1-9aac-c7326a8f7308",
   "metadata": {},
   "source": [
    "#Ans.7.\n",
    "Order\tClause\tFunction\n",
    "1\tFROM\t     Tables are joined to get the base data.\n",
    "2\tWHERE\t     The base data is filtered.\n",
    "3\tGROUP BY\t The filtered base data is grouped.\n",
    "4\tHAVING\t     The grouped base data is filtered.\n",
    "5\tSELECT\t     The final data is returned.\n",
    "6\tORDER BY\t The final data is sorted.\n",
    "7\tLIMIT\t     The returned data is limited to row count."
   ]
  }
 ],
 "metadata": {
  "kernelspec": {
   "display_name": "Python 3 (ipykernel)",
   "language": "python",
   "name": "python3"
  },
  "language_info": {
   "codemirror_mode": {
    "name": "ipython",
    "version": 3
   },
   "file_extension": ".py",
   "mimetype": "text/x-python",
   "name": "python",
   "nbconvert_exporter": "python",
   "pygments_lexer": "ipython3",
   "version": "3.10.8"
  }
 },
 "nbformat": 4,
 "nbformat_minor": 5
}
